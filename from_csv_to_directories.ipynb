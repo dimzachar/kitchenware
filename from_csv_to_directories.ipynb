{
 "cells": [
  {
   "cell_type": "code",
   "execution_count": 27,
   "id": "c55a3473",
   "metadata": {
    "ExecuteTime": {
     "end_time": "2022-12-27T15:07:13.883965Z",
     "start_time": "2022-12-27T15:07:13.872379Z"
    }
   },
   "outputs": [],
   "source": [
    "import pandas as pd\n",
    "import numpy as np\n",
    "import os, shutil\n",
    "from shutil import copyfile\n",
    "import matplotlib.pyplot as plt\n",
    "from pathlib import Path\n",
    "from hashlib import md5\n",
    "from collections import defaultdict\n",
    "import PIL\n",
    "from PIL import Image\n",
    "import tensorflow as tf\n",
    "from tensorflow import keras\n",
    "from tensorflow.keras.models import Sequential\n",
    "from tensorflow.keras.layers import Conv2D, MaxPooling2D, Flatten, Dense, Dropout, BatchNormalization\n",
    "\n",
    "from tensorflow.keras.applications.xception import Xception\n",
    "from tensorflow.keras.applications.xception import preprocess_input\n",
    "from tensorflow.keras.preprocessing.image import ImageDataGenerator\n",
    "from keras_preprocessing.image import load_img\n",
    "\n",
    "from tensorflow.keras.optimizers.schedules import ExponentialDecay\n",
    "from tensorflow.keras import regularizers\n",
    "from tensorflow.keras.regularizers import l2\n",
    "# from tensorflow.keras.applications import EfficientNetB0\n",
    "from keras.optimizers import RMSprop\n",
    "from pathlib import Path\n",
    "import random\n",
    "import os\n",
    "import os.path\n",
    "from PIL import Image\n",
    "from sklearn.model_selection import train_test_split\n",
    "import matplotlib\n",
    "import matplotlib.pyplot as plt\n",
    "from scipy import signal\n",
    "import plotly.express as px\n",
    "import collections\n",
    "SEED=42"
   ]
  },
  {
   "cell_type": "code",
   "execution_count": null,
   "id": "f1249aeb",
   "metadata": {},
   "outputs": [],
   "source": [
    "# !kaggle competitions download -c kitchenware-classification\n",
    "# !mkdir data\n",
    "# !unzip kitchenware-classification.zip -d data > /dev/null\n",
    "# !rm kitchenware-classification.zip"
   ]
  },
  {
   "cell_type": "code",
   "execution_count": 48,
   "id": "fccc50a8",
   "metadata": {
    "ExecuteTime": {
     "end_time": "2022-12-27T15:27:01.920662Z",
     "start_time": "2022-12-27T15:27:01.908508Z"
    }
   },
   "outputs": [],
   "source": [
    "project_dir = Path('./Images/')\n",
    "img_dir = project_dir / 'images'"
   ]
  },
  {
   "cell_type": "code",
   "execution_count": 3,
   "id": "65738fc6",
   "metadata": {
    "ExecuteTime": {
     "end_time": "2022-12-24T18:11:52.071971Z",
     "start_time": "2022-12-24T18:11:52.019969Z"
    }
   },
   "outputs": [
    {
     "data": {
      "text/html": [
       "<div>\n",
       "<style scoped>\n",
       "    .dataframe tbody tr th:only-of-type {\n",
       "        vertical-align: middle;\n",
       "    }\n",
       "\n",
       "    .dataframe tbody tr th {\n",
       "        vertical-align: top;\n",
       "    }\n",
       "\n",
       "    .dataframe thead th {\n",
       "        text-align: right;\n",
       "    }\n",
       "</style>\n",
       "<table border=\"1\" class=\"dataframe\">\n",
       "  <thead>\n",
       "    <tr style=\"text-align: right;\">\n",
       "      <th></th>\n",
       "      <th>Id</th>\n",
       "      <th>label</th>\n",
       "    </tr>\n",
       "  </thead>\n",
       "  <tbody>\n",
       "    <tr>\n",
       "      <th>0</th>\n",
       "      <td>0560</td>\n",
       "      <td>glass</td>\n",
       "    </tr>\n",
       "    <tr>\n",
       "      <th>1</th>\n",
       "      <td>4675</td>\n",
       "      <td>cup</td>\n",
       "    </tr>\n",
       "    <tr>\n",
       "      <th>2</th>\n",
       "      <td>0875</td>\n",
       "      <td>glass</td>\n",
       "    </tr>\n",
       "    <tr>\n",
       "      <th>3</th>\n",
       "      <td>4436</td>\n",
       "      <td>spoon</td>\n",
       "    </tr>\n",
       "    <tr>\n",
       "      <th>4</th>\n",
       "      <td>8265</td>\n",
       "      <td>plate</td>\n",
       "    </tr>\n",
       "    <tr>\n",
       "      <th>...</th>\n",
       "      <td>...</td>\n",
       "      <td>...</td>\n",
       "    </tr>\n",
       "    <tr>\n",
       "      <th>5554</th>\n",
       "      <td>6742</td>\n",
       "      <td>cup</td>\n",
       "    </tr>\n",
       "    <tr>\n",
       "      <th>5555</th>\n",
       "      <td>1574</td>\n",
       "      <td>cup</td>\n",
       "    </tr>\n",
       "    <tr>\n",
       "      <th>5556</th>\n",
       "      <td>6746</td>\n",
       "      <td>knife</td>\n",
       "    </tr>\n",
       "    <tr>\n",
       "      <th>5557</th>\n",
       "      <td>3562</td>\n",
       "      <td>cup</td>\n",
       "    </tr>\n",
       "    <tr>\n",
       "      <th>5558</th>\n",
       "      <td>5052</td>\n",
       "      <td>glass</td>\n",
       "    </tr>\n",
       "  </tbody>\n",
       "</table>\n",
       "<p>5559 rows × 2 columns</p>\n",
       "</div>"
      ],
      "text/plain": [
       "        Id  label\n",
       "0     0560  glass\n",
       "1     4675    cup\n",
       "2     0875  glass\n",
       "3     4436  spoon\n",
       "4     8265  plate\n",
       "...    ...    ...\n",
       "5554  6742    cup\n",
       "5555  1574    cup\n",
       "5556  6746  knife\n",
       "5557  3562    cup\n",
       "5558  5052  glass\n",
       "\n",
       "[5559 rows x 2 columns]"
      ]
     },
     "execution_count": 3,
     "metadata": {},
     "output_type": "execute_result"
    }
   ],
   "source": [
    "df = pd.read_csv('./data/train.csv')\n",
    "df[\"Id\"]\n",
    "df['Id'] = df['Id'].astype(str).str.zfill(4)\n",
    "df"
   ]
  },
  {
   "cell_type": "code",
   "execution_count": 4,
   "id": "22205ab5",
   "metadata": {
    "ExecuteTime": {
     "end_time": "2022-12-24T18:11:55.760719Z",
     "start_time": "2022-12-24T18:11:55.709108Z"
    }
   },
   "outputs": [],
   "source": [
    "df['filename'] = df.apply(lambda row: str(row['Id']) + \".jpg\", axis=1)"
   ]
  },
  {
   "cell_type": "code",
   "execution_count": 5,
   "id": "462163f9",
   "metadata": {
    "ExecuteTime": {
     "end_time": "2022-12-24T18:11:58.381551Z",
     "start_time": "2022-12-24T18:11:58.365553Z"
    }
   },
   "outputs": [],
   "source": [
    "df = df.drop(['Id'], axis=1)"
   ]
  },
  {
   "cell_type": "code",
   "execution_count": 6,
   "id": "aa73c62f",
   "metadata": {
    "ExecuteTime": {
     "end_time": "2022-12-24T18:11:59.752245Z",
     "start_time": "2022-12-24T18:11:59.719189Z"
    }
   },
   "outputs": [
    {
     "data": {
      "text/html": [
       "<div>\n",
       "<style scoped>\n",
       "    .dataframe tbody tr th:only-of-type {\n",
       "        vertical-align: middle;\n",
       "    }\n",
       "\n",
       "    .dataframe tbody tr th {\n",
       "        vertical-align: top;\n",
       "    }\n",
       "\n",
       "    .dataframe thead th {\n",
       "        text-align: right;\n",
       "    }\n",
       "</style>\n",
       "<table border=\"1\" class=\"dataframe\">\n",
       "  <thead>\n",
       "    <tr style=\"text-align: right;\">\n",
       "      <th></th>\n",
       "      <th>filename</th>\n",
       "      <th>label</th>\n",
       "    </tr>\n",
       "  </thead>\n",
       "  <tbody>\n",
       "    <tr>\n",
       "      <th>0</th>\n",
       "      <td>0560.jpg</td>\n",
       "      <td>glass</td>\n",
       "    </tr>\n",
       "    <tr>\n",
       "      <th>1</th>\n",
       "      <td>4675.jpg</td>\n",
       "      <td>cup</td>\n",
       "    </tr>\n",
       "    <tr>\n",
       "      <th>2</th>\n",
       "      <td>0875.jpg</td>\n",
       "      <td>glass</td>\n",
       "    </tr>\n",
       "    <tr>\n",
       "      <th>3</th>\n",
       "      <td>4436.jpg</td>\n",
       "      <td>spoon</td>\n",
       "    </tr>\n",
       "    <tr>\n",
       "      <th>4</th>\n",
       "      <td>8265.jpg</td>\n",
       "      <td>plate</td>\n",
       "    </tr>\n",
       "    <tr>\n",
       "      <th>...</th>\n",
       "      <td>...</td>\n",
       "      <td>...</td>\n",
       "    </tr>\n",
       "    <tr>\n",
       "      <th>5554</th>\n",
       "      <td>6742.jpg</td>\n",
       "      <td>cup</td>\n",
       "    </tr>\n",
       "    <tr>\n",
       "      <th>5555</th>\n",
       "      <td>1574.jpg</td>\n",
       "      <td>cup</td>\n",
       "    </tr>\n",
       "    <tr>\n",
       "      <th>5556</th>\n",
       "      <td>6746.jpg</td>\n",
       "      <td>knife</td>\n",
       "    </tr>\n",
       "    <tr>\n",
       "      <th>5557</th>\n",
       "      <td>3562.jpg</td>\n",
       "      <td>cup</td>\n",
       "    </tr>\n",
       "    <tr>\n",
       "      <th>5558</th>\n",
       "      <td>5052.jpg</td>\n",
       "      <td>glass</td>\n",
       "    </tr>\n",
       "  </tbody>\n",
       "</table>\n",
       "<p>5559 rows × 2 columns</p>\n",
       "</div>"
      ],
      "text/plain": [
       "      filename  label\n",
       "0     0560.jpg  glass\n",
       "1     4675.jpg    cup\n",
       "2     0875.jpg  glass\n",
       "3     4436.jpg  spoon\n",
       "4     8265.jpg  plate\n",
       "...        ...    ...\n",
       "5554  6742.jpg    cup\n",
       "5555  1574.jpg    cup\n",
       "5556  6746.jpg  knife\n",
       "5557  3562.jpg    cup\n",
       "5558  5052.jpg  glass\n",
       "\n",
       "[5559 rows x 2 columns]"
      ]
     },
     "execution_count": 6,
     "metadata": {},
     "output_type": "execute_result"
    }
   ],
   "source": [
    "first_column = df.pop('filename')\n",
    "df.insert(0, 'filename', first_column)\n",
    "df = df.reset_index(drop=True)\n",
    "df"
   ]
  },
  {
   "cell_type": "code",
   "execution_count": 7,
   "id": "a0a95f45",
   "metadata": {
    "ExecuteTime": {
     "end_time": "2022-12-24T18:12:03.143389Z",
     "start_time": "2022-12-24T18:12:03.129389Z"
    }
   },
   "outputs": [
    {
     "name": "stdout",
     "output_type": "stream",
     "text": [
      "5559\n"
     ]
    }
   ],
   "source": [
    "print(len(df))"
   ]
  },
  {
   "cell_type": "code",
   "execution_count": 8,
   "id": "5a74785a",
   "metadata": {
    "ExecuteTime": {
     "end_time": "2022-12-24T18:12:21.234556Z",
     "start_time": "2022-12-24T18:12:21.204497Z"
    }
   },
   "outputs": [],
   "source": [
    "df_train, df_val = train_test_split(df, test_size=0.2, random_state=SEED)"
   ]
  },
  {
   "cell_type": "code",
   "execution_count": 9,
   "id": "cddd2835",
   "metadata": {
    "ExecuteTime": {
     "end_time": "2022-12-24T18:12:22.365953Z",
     "start_time": "2022-12-24T18:12:22.354953Z"
    }
   },
   "outputs": [
    {
     "name": "stdout",
     "output_type": "stream",
     "text": [
      "4447\n",
      "1112\n",
      "79.99640223061702\n",
      "20.00359776938298\n"
     ]
    },
    {
     "data": {
      "text/plain": [
       "(None, None)"
      ]
     },
     "execution_count": 9,
     "metadata": {},
     "output_type": "execute_result"
    }
   ],
   "source": [
    "print(len(df_train)), print(len(df_val))\n",
    "print(len(df_train)*100/len(df)), print(len(df_val)*100/len(df))"
   ]
  },
  {
   "cell_type": "code",
   "execution_count": 10,
   "id": "47573c83",
   "metadata": {
    "ExecuteTime": {
     "end_time": "2022-12-24T18:12:26.809482Z",
     "start_time": "2022-12-24T18:12:26.793678Z"
    }
   },
   "outputs": [],
   "source": [
    "# Reset indices of all partitions \n",
    "df_train = df_train.reset_index(drop=True)\n",
    "df_val = df_val.reset_index(drop=True)"
   ]
  },
  {
   "cell_type": "code",
   "execution_count": 11,
   "id": "8f995735",
   "metadata": {
    "ExecuteTime": {
     "end_time": "2022-12-24T18:12:27.594778Z",
     "start_time": "2022-12-24T18:12:27.577193Z"
    }
   },
   "outputs": [
    {
     "data": {
      "text/html": [
       "<div>\n",
       "<style scoped>\n",
       "    .dataframe tbody tr th:only-of-type {\n",
       "        vertical-align: middle;\n",
       "    }\n",
       "\n",
       "    .dataframe tbody tr th {\n",
       "        vertical-align: top;\n",
       "    }\n",
       "\n",
       "    .dataframe thead th {\n",
       "        text-align: right;\n",
       "    }\n",
       "</style>\n",
       "<table border=\"1\" class=\"dataframe\">\n",
       "  <thead>\n",
       "    <tr style=\"text-align: right;\">\n",
       "      <th></th>\n",
       "      <th>filename</th>\n",
       "      <th>label</th>\n",
       "    </tr>\n",
       "  </thead>\n",
       "  <tbody>\n",
       "    <tr>\n",
       "      <th>0</th>\n",
       "      <td>8242.jpg</td>\n",
       "      <td>spoon</td>\n",
       "    </tr>\n",
       "    <tr>\n",
       "      <th>1</th>\n",
       "      <td>0181.jpg</td>\n",
       "      <td>knife</td>\n",
       "    </tr>\n",
       "    <tr>\n",
       "      <th>2</th>\n",
       "      <td>4897.jpg</td>\n",
       "      <td>spoon</td>\n",
       "    </tr>\n",
       "    <tr>\n",
       "      <th>3</th>\n",
       "      <td>7430.jpg</td>\n",
       "      <td>spoon</td>\n",
       "    </tr>\n",
       "    <tr>\n",
       "      <th>4</th>\n",
       "      <td>4286.jpg</td>\n",
       "      <td>glass</td>\n",
       "    </tr>\n",
       "  </tbody>\n",
       "</table>\n",
       "</div>"
      ],
      "text/plain": [
       "   filename  label\n",
       "0  8242.jpg  spoon\n",
       "1  0181.jpg  knife\n",
       "2  4897.jpg  spoon\n",
       "3  7430.jpg  spoon\n",
       "4  4286.jpg  glass"
      ]
     },
     "execution_count": 11,
     "metadata": {},
     "output_type": "execute_result"
    }
   ],
   "source": [
    "df_train.head()"
   ]
  },
  {
   "cell_type": "code",
   "execution_count": 12,
   "id": "7b8766d6",
   "metadata": {
    "ExecuteTime": {
     "end_time": "2022-12-24T18:12:28.569827Z",
     "start_time": "2022-12-24T18:12:28.560772Z"
    }
   },
   "outputs": [
    {
     "data": {
      "text/html": [
       "<div>\n",
       "<style scoped>\n",
       "    .dataframe tbody tr th:only-of-type {\n",
       "        vertical-align: middle;\n",
       "    }\n",
       "\n",
       "    .dataframe tbody tr th {\n",
       "        vertical-align: top;\n",
       "    }\n",
       "\n",
       "    .dataframe thead th {\n",
       "        text-align: right;\n",
       "    }\n",
       "</style>\n",
       "<table border=\"1\" class=\"dataframe\">\n",
       "  <thead>\n",
       "    <tr style=\"text-align: right;\">\n",
       "      <th></th>\n",
       "      <th>filename</th>\n",
       "      <th>label</th>\n",
       "    </tr>\n",
       "  </thead>\n",
       "  <tbody>\n",
       "    <tr>\n",
       "      <th>0</th>\n",
       "      <td>4016.jpg</td>\n",
       "      <td>plate</td>\n",
       "    </tr>\n",
       "    <tr>\n",
       "      <th>1</th>\n",
       "      <td>4991.jpg</td>\n",
       "      <td>knife</td>\n",
       "    </tr>\n",
       "    <tr>\n",
       "      <th>2</th>\n",
       "      <td>1458.jpg</td>\n",
       "      <td>spoon</td>\n",
       "    </tr>\n",
       "    <tr>\n",
       "      <th>3</th>\n",
       "      <td>9066.jpg</td>\n",
       "      <td>spoon</td>\n",
       "    </tr>\n",
       "    <tr>\n",
       "      <th>4</th>\n",
       "      <td>5767.jpg</td>\n",
       "      <td>cup</td>\n",
       "    </tr>\n",
       "  </tbody>\n",
       "</table>\n",
       "</div>"
      ],
      "text/plain": [
       "   filename  label\n",
       "0  4016.jpg  plate\n",
       "1  4991.jpg  knife\n",
       "2  1458.jpg  spoon\n",
       "3  9066.jpg  spoon\n",
       "4  5767.jpg    cup"
      ]
     },
     "execution_count": 12,
     "metadata": {},
     "output_type": "execute_result"
    }
   ],
   "source": [
    "df_val.head()"
   ]
  },
  {
   "cell_type": "code",
   "execution_count": 13,
   "id": "eace6e5f",
   "metadata": {
    "ExecuteTime": {
     "end_time": "2022-12-24T18:12:31.422598Z",
     "start_time": "2022-12-24T18:12:31.394600Z"
    }
   },
   "outputs": [],
   "source": [
    "df_train.to_csv('df_train.csv')\n",
    "df_val.to_csv('df_val.csv')"
   ]
  },
  {
   "cell_type": "code",
   "execution_count": 45,
   "id": "3f0f8d5a",
   "metadata": {
    "ExecuteTime": {
     "end_time": "2022-12-27T15:26:25.857619Z",
     "start_time": "2022-12-27T15:26:25.840454Z"
    }
   },
   "outputs": [],
   "source": [
    "base_dir = r'Images'"
   ]
  },
  {
   "cell_type": "code",
   "execution_count": 53,
   "id": "dae39e57",
   "metadata": {
    "ExecuteTime": {
     "end_time": "2022-12-27T15:47:45.434232Z",
     "start_time": "2022-12-27T15:47:45.413141Z"
    }
   },
   "outputs": [],
   "source": [
    "import os\n",
    "import shutil\n",
    "import pandas as pd\n",
    "\n",
    "def move_images(img_dir, df_train, df_val, base_dir):\n",
    "    # Create the train and val directories\n",
    "    train = os.path.join(base_dir, 'train')\n",
    "    os.makedirs(train, exist_ok=True)\n",
    "\n",
    "    val = os.path.join(base_dir, 'val')\n",
    "    os.makedirs(val, exist_ok=True)\n",
    "\n",
    "    # Iterate through the rows in the training DataFrame\n",
    "    for _, row in df_train.iterrows():\n",
    "        filename = row['filename']\n",
    "        label = row['label']\n",
    "        # Create the subdirectory for the label, if it doesn't exist\n",
    "        subdir = os.path.join(train, label)\n",
    "        if not os.path.exists(subdir):\n",
    "            os.mkdir(subdir)\n",
    "\n",
    "        # Move the image to the subdirectory\n",
    "        src_path = os.path.abspath(os.path.join(img_dir, filename)).replace(\"\\\\\",\"/\")\n",
    "        dest_path = os.path.abspath(os.path.join(subdir, filename)).replace(\"\\\\\",\"/\")\n",
    "        shutil.copy(src_path, dest_path)\n",
    "\n",
    "    # Iterate through the rows in the validation DataFrame\n",
    "    for _, row in df_val.iterrows():\n",
    "        filename = row['filename']\n",
    "        label = row['label']\n",
    "        # Create the subdirectory for the label, if it doesn't exist\n",
    "        subdir = os.path.join(val, label)\n",
    "        if not os.path.exists(subdir):\n",
    "            os.mkdir(subdir)\n",
    "\n",
    "        # Move the image to the subdirectory\n",
    "        src_path = os.path.abspath(os.path.join(img_dir, filename)).replace(\"\\\\\",\"/\")\n",
    "        dest_path = os.path.abspath(os.path.join(subdir, filename)).replace(\"\\\\\",\"/\")\n",
    "        shutil.copy(src_path, dest_path)\n"
   ]
  },
  {
   "cell_type": "code",
   "execution_count": 54,
   "id": "e92fbdec",
   "metadata": {
    "ExecuteTime": {
     "end_time": "2022-12-27T15:47:50.072985Z",
     "start_time": "2022-12-27T15:47:46.288529Z"
    }
   },
   "outputs": [],
   "source": [
    "move_images(img_dir, df_train, df_val, base_dir)"
   ]
  },
  {
   "cell_type": "code",
   "execution_count": 40,
   "id": "5f097271",
   "metadata": {
    "ExecuteTime": {
     "end_time": "2022-12-27T15:14:53.776514Z",
     "start_time": "2022-12-27T15:14:53.745567Z"
    }
   },
   "outputs": [
    {
     "data": {
      "text/html": [
       "<div>\n",
       "<style scoped>\n",
       "    .dataframe tbody tr th:only-of-type {\n",
       "        vertical-align: middle;\n",
       "    }\n",
       "\n",
       "    .dataframe tbody tr th {\n",
       "        vertical-align: top;\n",
       "    }\n",
       "\n",
       "    .dataframe thead th {\n",
       "        text-align: right;\n",
       "    }\n",
       "</style>\n",
       "<table border=\"1\" class=\"dataframe\">\n",
       "  <thead>\n",
       "    <tr style=\"text-align: right;\">\n",
       "      <th></th>\n",
       "      <th>Id</th>\n",
       "      <th>filename</th>\n",
       "    </tr>\n",
       "  </thead>\n",
       "  <tbody>\n",
       "    <tr>\n",
       "      <th>0</th>\n",
       "      <td>0678</td>\n",
       "      <td>0678.jpg</td>\n",
       "    </tr>\n",
       "    <tr>\n",
       "      <th>1</th>\n",
       "      <td>3962</td>\n",
       "      <td>3962.jpg</td>\n",
       "    </tr>\n",
       "    <tr>\n",
       "      <th>2</th>\n",
       "      <td>9271</td>\n",
       "      <td>9271.jpg</td>\n",
       "    </tr>\n",
       "    <tr>\n",
       "      <th>3</th>\n",
       "      <td>5133</td>\n",
       "      <td>5133.jpg</td>\n",
       "    </tr>\n",
       "    <tr>\n",
       "      <th>4</th>\n",
       "      <td>8842</td>\n",
       "      <td>8842.jpg</td>\n",
       "    </tr>\n",
       "  </tbody>\n",
       "</table>\n",
       "</div>"
      ],
      "text/plain": [
       "     Id  filename\n",
       "0  0678  0678.jpg\n",
       "1  3962  3962.jpg\n",
       "2  9271  9271.jpg\n",
       "3  5133  5133.jpg\n",
       "4  8842  8842.jpg"
      ]
     },
     "execution_count": 40,
     "metadata": {},
     "output_type": "execute_result"
    }
   ],
   "source": [
    "df_test = pd.read_csv('data/test.csv', dtype={'Id': str})\n",
    "df_test['filename'] = df_test['Id'] + '.jpg'\n",
    "df_test.head()"
   ]
  },
  {
   "cell_type": "code",
   "execution_count": 41,
   "id": "ad377d6e",
   "metadata": {
    "ExecuteTime": {
     "end_time": "2022-12-27T15:17:08.431978Z",
     "start_time": "2022-12-27T15:17:08.418265Z"
    }
   },
   "outputs": [],
   "source": [
    "import os\n",
    "import shutil\n",
    "\n",
    "def test_images(img_dir, df_test, base_dir):\n",
    "    # Create the test directory\n",
    "    test = os.path.join(base_dir, 'test')\n",
    "    os.makedirs(test, exist_ok=True)\n",
    "\n",
    "    # Iterate through the rows in the DataFrame\n",
    "    for _, row in df_test.iterrows():\n",
    "        filename = row['filename']\n",
    "        # Create the subdirectory for the label, if it doesn't exist\n",
    "        subdir = os.path.join(test)\n",
    "        if not os.path.exists(subdir):\n",
    "            os.mkdir(subdir)\n",
    "\n",
    "        # Move the image to the subdirectory\n",
    "        src_path = os.path.abspath(os.path.join(img_dir, filename)).replace(\"\\\\\",\"/\")\n",
    "        dest_path = os.path.abspath(os.path.join(subdir, filename)).replace(\"\\\\\",\"/\")\n",
    "        shutil.copy(src_path, dest_path)\n"
   ]
  },
  {
   "cell_type": "code",
   "execution_count": 42,
   "id": "e45ab23e",
   "metadata": {
    "ExecuteTime": {
     "end_time": "2022-12-27T15:17:12.088698Z",
     "start_time": "2022-12-27T15:17:09.483792Z"
    }
   },
   "outputs": [],
   "source": [
    "test_images(img_dir, df_test, base_dir)"
   ]
  },
  {
   "cell_type": "code",
   "execution_count": null,
   "id": "5a1846f4",
   "metadata": {},
   "outputs": [],
   "source": []
  }
 ],
 "metadata": {
  "kernelspec": {
   "display_name": "Python 3 (ipykernel)",
   "language": "python",
   "name": "python3"
  },
  "language_info": {
   "codemirror_mode": {
    "name": "ipython",
    "version": 3
   },
   "file_extension": ".py",
   "mimetype": "text/x-python",
   "name": "python",
   "nbconvert_exporter": "python",
   "pygments_lexer": "ipython3",
   "version": "3.9.13"
  },
  "latex_envs": {
   "LaTeX_envs_menu_present": true,
   "autoclose": false,
   "autocomplete": true,
   "bibliofile": "biblio.bib",
   "cite_by": "apalike",
   "current_citInitial": 1,
   "eqLabelWithNumbers": true,
   "eqNumInitial": 1,
   "hotkeys": {
    "equation": "Ctrl-E",
    "itemize": "Ctrl-I"
   },
   "labels_anchors": false,
   "latex_user_defs": false,
   "report_style_numbering": false,
   "user_envs_cfg": false
  },
  "toc": {
   "base_numbering": 1,
   "nav_menu": {},
   "number_sections": true,
   "sideBar": true,
   "skip_h1_title": false,
   "title_cell": "Table of Contents",
   "title_sidebar": "Contents",
   "toc_cell": false,
   "toc_position": {},
   "toc_section_display": true,
   "toc_window_display": false
  }
 },
 "nbformat": 4,
 "nbformat_minor": 5
}
